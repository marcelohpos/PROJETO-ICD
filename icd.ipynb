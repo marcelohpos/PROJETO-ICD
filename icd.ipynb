{
  "nbformat": 4,
  "nbformat_minor": 0,
  "metadata": {
    "colab": {
      "provenance": [],
      "authorship_tag": "ABX9TyPPIogztb0Xg0zywmfIQ1uy",
      "include_colab_link": true
    },
    "kernelspec": {
      "name": "python3",
      "display_name": "Python 3"
    },
    "language_info": {
      "name": "python"
    }
  },
  "cells": [
    {
      "cell_type": "markdown",
      "metadata": {
        "id": "view-in-github",
        "colab_type": "text"
      },
      "source": [
        "<a href=\"https://colab.research.google.com/github/marcelohpos/PROJETO-ICD/blob/master/icd.ipynb\" target=\"_parent\"><img src=\"https://colab.research.google.com/assets/colab-badge.svg\" alt=\"Open In Colab\"/></a>"
      ]
    },
    {
      "cell_type": "markdown",
      "source": [
        "##**Análises Gerais:**"
      ],
      "metadata": {
        "id": "RRwWGNPMNont"
      }
    },
    {
      "cell_type": "markdown",
      "source": [
        "1- Como a qualidade do ar em Brasília se compara com a das capitais de outros países como Chile, Colômbia ou Argentina?"
      ],
      "metadata": {
        "id": "L53e47V2R57v"
      }
    },
    {
      "cell_type": "markdown",
      "source": [
        "2- Gráficos de violino no que diz respeito a cada indicador de ar considerando cada capital"
      ],
      "metadata": {
        "id": "KhXs-BK2SDwf"
      }
    },
    {
      "cell_type": "code",
      "source": [],
      "metadata": {
        "id": "eC7VbRF7aSUZ"
      },
      "execution_count": null,
      "outputs": []
    },
    {
      "cell_type": "markdown",
      "source": [
        "3- fazer um calendário de heatmap pros niveis de ar e olhar se tem alguma sazonalidade de brasilia ou geral de tudo"
      ],
      "metadata": {
        "id": "PqQz372VSgD8"
      }
    },
    {
      "cell_type": "markdown",
      "source": [
        "4- Describe geral da tabela, mostrando os dados que temos e algumas caracteristicas gerais deles"
      ],
      "metadata": {
        "id": "-iVPbei5Tapd"
      }
    },
    {
      "cell_type": "markdown",
      "source": [
        "5- visualização geral dos indices, com mapa interativo da seria temporal mostrando a evolução da temp, da evapotranspiração e do vento\n",
        "\n",
        "tentar juntar isso com uma visualização geral das variaveis"
      ],
      "metadata": {
        "id": "5sypVHKVToay"
      }
    },
    {
      "cell_type": "markdown",
      "source": [
        "6- estruturar uma ideia pra medir a qualidade do ar"
      ],
      "metadata": {
        "id": "tGCM65G0Xbh1"
      }
    },
    {
      "cell_type": "markdown",
      "source": [
        "##**Intervalo de Confiança**\n",
        "\n",
        "1- A média dos níveis de poluição em Brasília difere de forma estatisticamente significativa da média das outras capitais da América Latina?\n",
        "\n",
        "2- avaliar correlações entre os gases e as variavies do tempo\n"
      ],
      "metadata": {
        "id": "lVrJV-AoXuvh"
      }
    },
    {
      "cell_type": "markdown",
      "source": [
        "##**Regressão:**\n",
        "\n",
        "1- É possível desenvolver um modelo de regressão que preveja os níveis de PM2.5 para cidades da América Latina, usando dados meteorológicos e históricos como entrada?\n",
        "\n",
        "2- Quais variáveis meteorológicas (temperatura, velocidade do vento, pressão atmosférica) são os preditores mais importantes para a qualidade do ar, e essa importância varia entre as diferentes regiões ?"
      ],
      "metadata": {
        "id": "YeCDYOOfY7Q7"
      }
    },
    {
      "cell_type": "code",
      "source": [],
      "metadata": {
        "id": "Xhzj8ZGhR5nf"
      },
      "execution_count": null,
      "outputs": []
    },
    {
      "cell_type": "code",
      "execution_count": null,
      "metadata": {
        "id": "rIBNkI8cMk8z"
      },
      "outputs": [],
      "source": []
    }
  ]
}